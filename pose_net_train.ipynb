{
 "cells": [
  {
   "cell_type": "code",
   "execution_count": 1,
   "metadata": {
    "collapsed": false
   },
   "outputs": [],
   "source": [
    "import os\n",
    "import torch\n",
    "import numpy as np\n",
    "from datetime import datetime\n",
    "\n",
    "from faster_rcnn import network\n",
    "from faster_rcnn.faster_rcnn import FasterRCNN, RPN\n",
    "from faster_rcnn.utils.timer import Timer\n",
    "\n",
    "import faster_rcnn.roi_data_layer.roidb as rdl_roidb\n",
    "from faster_rcnn.roi_data_layer.layer import RoIDataLayer\n",
    "from faster_rcnn.datasets.factory import get_imdb\n",
    "from faster_rcnn.fast_rcnn.config import cfg, cfg_from_file\n",
    "\n",
    "from faster_rcnn.pose_net import PoseNet\n",
    "\n",
    "try:\n",
    "    from termcolor import cprint\n",
    "except ImportError:\n",
    "    cprint = None\n",
    "\n",
    "try:\n",
    "    from pycrayon import CrayonClient\n",
    "except ImportError:\n",
    "    CrayonClient = None\n",
    "\n",
    "\n",
    "def log_print(text, color=None, on_color=None, attrs=None):\n",
    "    if cprint is not None:\n",
    "        cprint(text, color=color, on_color=on_color, attrs=attrs)\n",
    "    else:\n",
    "        print(text)"
   ]
  },
  {
   "cell_type": "code",
   "execution_count": 2,
   "metadata": {
    "collapsed": true
   },
   "outputs": [],
   "source": [
    "# hyper-parameters\n",
    "# ------------\n",
    "#imdb_name = 'voc_2007_trainval'\n",
    "imdb_name = 'kittipose_train'\n",
    "cfg_file = 'experiments/cfgs/faster_rcnn_end2end.yml'\n",
    "pretrained_model = '/home/pculbert/Documents/faster_rcnn_pytorch/VGG_imagenet.npy'\n",
    "trained_fast_rcnn = 'models/saved_model9/faster_rcnn_100000.h5'\n",
    "output_dir = 'trained_models/saved_pose_model2'\n",
    "\n",
    "start_step = 0\n",
    "end_step = 80000\n",
    "lr_decay_steps = {40000, 60000}\n",
    "lr_decay = 1./10\n",
    "\n",
    "rand_seed = 1024\n",
    "_DEBUG = True\n",
    "use_tensorboard = False\n",
    "remove_all_log = False   # remove all historical experiments in TensorBoard\n",
    "exp_name = None # the previous experiment name in TensorBoard\n",
    "\n",
    "# ------------\n",
    "\n",
    "if rand_seed is not None:\n",
    "    np.random.seed(rand_seed)"
   ]
  },
  {
   "cell_type": "code",
   "execution_count": 3,
   "metadata": {
    "collapsed": true
   },
   "outputs": [],
   "source": [
    "# load config\n",
    "cfg_from_file(cfg_file)\n",
    "lr = cfg.TRAIN.LEARNING_RATE\n",
    "momentum = cfg.TRAIN.MOMENTUM\n",
    "weight_decay = cfg.TRAIN.WEIGHT_DECAY\n",
    "disp_interval = cfg.TRAIN.DISPLAY\n",
    "log_interval = cfg.TRAIN.LOG_IMAGE_ITERS"
   ]
  },
  {
   "cell_type": "code",
   "execution_count": 4,
   "metadata": {
    "collapsed": false
   },
   "outputs": [
    {
     "name": "stdout",
     "output_type": "stream",
     "text": [
      "<bound method kittipose.default_roidb of <faster_rcnn.datasets.kittipose.kittipose object at 0x7fc50a4ca950>>\n",
      "Remove empty annotations:  005066 004339 004040 003383 001752 001091 000547 Done. \n",
      "kittipose_train gt roidb loaded from /home/zjwang/git/faster_rcnn_pytorch/data/cache/kittipose_train_gt_roidb.pkl\n"
     ]
    }
   ],
   "source": [
    "# load data\n",
    "imdb = get_imdb(imdb_name)\n",
    "rdl_roidb.prepare_roidb(imdb)\n",
    "roidb = imdb.roidb\n",
    "# roidb is a database, containing bounding box info for all training images\n",
    "data_layer = RoIDataLayer(roidb, imdb.num_classes)"
   ]
  },
  {
   "cell_type": "code",
   "execution_count": 5,
   "metadata": {
    "collapsed": false
   },
   "outputs": [
    {
     "name": "stdout",
     "output_type": "stream",
     "text": [
      "load model successfully!\n"
     ]
    }
   ],
   "source": [
    "# load net\n",
    "net = PoseNet(classes=imdb.classes, debug=_DEBUG)\n",
    "network.weights_normal_init(net, dev=0.01)\n",
    "# network.load_pretrained_npy(net, pretrained_model)\n",
    "network.load_net(trained_fast_rcnn, net.frcnn)\n",
    "print('load model successfully!')\n",
    "\n",
    "# model_file = '/media/longc/Data/models/VGGnet_fast_rcnn_iter_70000.h5'\n",
    "# model_file = 'models/saved_model3/faster_rcnn_60000.h5'\n",
    "# network.load_net(model_file, net)\n",
    "# exp_name = 'vgg16_02-19_13-24'\n",
    "# start_step = 60001\n",
    "#lr /= 10.\n",
    "# network.weights_normal_init([net.bbox_fc, net.score_fc, net.fc6, net.fc7], dev=0.01)\n",
    "\n",
    "net.cuda()\n",
    "net.train();"
   ]
  },
  {
   "cell_type": "code",
   "execution_count": 6,
   "metadata": {
    "collapsed": false
   },
   "outputs": [],
   "source": [
    "#for name, param in net.named_parameters():\n",
    "#    if param.requires_grad:\n",
    "#        print name, param.data"
   ]
  },
  {
   "cell_type": "code",
   "execution_count": 7,
   "metadata": {
    "collapsed": false
   },
   "outputs": [],
   "source": [
    "#print list(net.parameters())[-4:]"
   ]
  },
  {
   "cell_type": "code",
   "execution_count": 8,
   "metadata": {
    "collapsed": true
   },
   "outputs": [],
   "source": [
    "optimizer = torch.optim.SGD(filter(lambda p: p.requires_grad, net.parameters()), \n",
    "                            lr=lr, momentum=momentum, weight_decay=weight_decay)\n",
    "if not os.path.exists(output_dir):\n",
    "    os.makedirs(output_dir)\n",
    "\n",
    "# tensorboad\n",
    "use_tensorboard = use_tensorboard and CrayonClient is not None\n",
    "if use_tensorboard:\n",
    "    cc = CrayonClient(hostname='127.0.0.1')\n",
    "    if remove_all_log:\n",
    "        cc.remove_all_experiments()\n",
    "    if exp_name is None:\n",
    "        exp_name = datetime.now().strftime('vgg16_%m-%d_%H-%M')\n",
    "        exp = cc.create_experiment(exp_name)\n",
    "    else:\n",
    "        exp = cc.open_experiment(exp_name)\n",
    "        \n",
    "#for param in net.parameters():\n",
    "#    print(type(param.data), param.size())"
   ]
  },
  {
   "cell_type": "code",
   "execution_count": 9,
   "metadata": {
    "collapsed": false
   },
   "outputs": [
    {
     "name": "stderr",
     "output_type": "stream",
     "text": [
      "faster_rcnn/faster_rcnn.py:76: UserWarning: Implicit dimension choice for softmax has been deprecated. Change the call to include dim=X as an argument.\n",
      "  rpn_cls_prob = F.softmax(rpn_cls_score_reshape)\n",
      "faster_rcnn/pose_net.py:98: UserWarning: Implicit dimension choice for softmax has been deprecated. Change the call to include dim=X as an argument.\n",
      "  cls_prob = F.softmax(cls_score)\n"
     ]
    },
    {
     "name": "stdout",
     "output_type": "stream",
     "text": [
      "step 0, image: 000356.jpg, loss: 0.1971, fps: 0.81 (1.23s per batch)\n",
      "\tTP: 0.01%, TF: 0.01%, fg/bg=(67/233)\n",
      "\tpose_loss: 0.1971\n",
      "step 100, image: 005385.jpg, loss: 0.4672, fps: 5.41 (0.18s per batch)\n",
      "\tTP: 0.01%, TF: 0.01%, fg/bg=(39/260)\n",
      "\tpose_loss: 0.1400\n",
      "step 200, image: 003871.jpg, loss: 0.4610, fps: 5.30 (0.19s per batch)\n",
      "\tTP: 0.01%, TF: 0.01%, fg/bg=(40/259)\n",
      "\tpose_loss: 0.2460\n",
      "step 300, image: 005634.jpg, loss: 0.4757, fps: 5.40 (0.19s per batch)\n",
      "\tTP: 0.01%, TF: 0.01%, fg/bg=(39/260)\n",
      "\tpose_loss: 0.1433\n",
      "step 400, image: 002981.jpg, loss: 0.4861, fps: 5.37 (0.19s per batch)\n",
      "\tTP: 0.01%, TF: 0.01%, fg/bg=(37/262)\n",
      "\tpose_loss: 0.3921\n",
      "step 500, image: 001141.jpg, loss: 0.6300, fps: 5.33 (0.19s per batch)\n",
      "\tTP: 0.01%, TF: 0.01%, fg/bg=(35/264)\n",
      "\tpose_loss: 0.3137\n",
      "step 600, image: 004654.jpg, loss: 0.5194, fps: 5.38 (0.19s per batch)\n",
      "\tTP: 0.01%, TF: 0.01%, fg/bg=(39/260)\n",
      "\tpose_loss: 0.1046\n",
      "step 700, image: 002804.jpg, loss: 0.4996, fps: 5.41 (0.18s per batch)\n",
      "\tTP: 0.01%, TF: 0.01%, fg/bg=(35/264)\n",
      "\tpose_loss: 0.8565\n",
      "step 800, image: 003846.jpg, loss: 0.4383, fps: 5.33 (0.19s per batch)\n",
      "\tTP: 0.01%, TF: 0.01%, fg/bg=(39/260)\n",
      "\tpose_loss: 0.2050\n",
      "step 900, image: 000062.jpg, loss: 0.5420, fps: 5.40 (0.19s per batch)\n",
      "\tTP: 0.01%, TF: 0.01%, fg/bg=(38/261)\n",
      "\tpose_loss: 0.2665\n"
     ]
    },
    {
     "ename": "KeyboardInterrupt",
     "evalue": "",
     "output_type": "error",
     "traceback": [
      "\u001b[0;31m---------------------------------------------------------------------------\u001b[0m",
      "\u001b[0;31mKeyboardInterrupt\u001b[0m                         Traceback (most recent call last)",
      "\u001b[0;32m<ipython-input-9-bf96ffba251f>\u001b[0m in \u001b[0;36m<module>\u001b[0;34m()\u001b[0m\n\u001b[1;32m     11\u001b[0m \u001b[0;34m\u001b[0m\u001b[0m\n\u001b[1;32m     12\u001b[0m     \u001b[0;31m# get one batch\u001b[0m\u001b[0;34m\u001b[0m\u001b[0;34m\u001b[0m\u001b[0m\n\u001b[0;32m---> 13\u001b[0;31m     \u001b[0mblobs\u001b[0m \u001b[0;34m=\u001b[0m \u001b[0mdata_layer\u001b[0m\u001b[0;34m.\u001b[0m\u001b[0mforward\u001b[0m\u001b[0;34m(\u001b[0m\u001b[0;34m)\u001b[0m\u001b[0;34m\u001b[0m\u001b[0m\n\u001b[0m\u001b[1;32m     14\u001b[0m     \u001b[0mim_data\u001b[0m \u001b[0;34m=\u001b[0m \u001b[0mblobs\u001b[0m\u001b[0;34m[\u001b[0m\u001b[0;34m'data'\u001b[0m\u001b[0;34m]\u001b[0m \u001b[0;31m# one image, shape = (1, H, W, 3)\u001b[0m\u001b[0;34m\u001b[0m\u001b[0m\n\u001b[1;32m     15\u001b[0m     \u001b[0mim_info\u001b[0m \u001b[0;34m=\u001b[0m \u001b[0mblobs\u001b[0m\u001b[0;34m[\u001b[0m\u001b[0;34m'im_info'\u001b[0m\u001b[0;34m]\u001b[0m \u001b[0;31m# stores H, W, scale\u001b[0m\u001b[0;34m\u001b[0m\u001b[0m\n",
      "\u001b[0;32m/home/zjwang/git/faster_rcnn_pytorch/faster_rcnn/roi_data_layer/layer.pyc\u001b[0m in \u001b[0;36mforward\u001b[0;34m(self)\u001b[0m\n\u001b[1;32m     72\u001b[0m     \u001b[0;32mdef\u001b[0m \u001b[0mforward\u001b[0m\u001b[0;34m(\u001b[0m\u001b[0mself\u001b[0m\u001b[0;34m)\u001b[0m\u001b[0;34m:\u001b[0m\u001b[0;34m\u001b[0m\u001b[0m\n\u001b[1;32m     73\u001b[0m         \u001b[0;34m\"\"\"Get blobs and copy them into this layer's top blob vector.\"\"\"\u001b[0m\u001b[0;34m\u001b[0m\u001b[0m\n\u001b[0;32m---> 74\u001b[0;31m         \u001b[0mblobs\u001b[0m \u001b[0;34m=\u001b[0m \u001b[0mself\u001b[0m\u001b[0;34m.\u001b[0m\u001b[0m_get_next_minibatch\u001b[0m\u001b[0;34m(\u001b[0m\u001b[0;34m)\u001b[0m\u001b[0;34m\u001b[0m\u001b[0m\n\u001b[0m\u001b[1;32m     75\u001b[0m         \u001b[0;32mreturn\u001b[0m \u001b[0mblobs\u001b[0m\u001b[0;34m\u001b[0m\u001b[0m\n",
      "\u001b[0;32m/home/zjwang/git/faster_rcnn_pytorch/faster_rcnn/roi_data_layer/layer.pyc\u001b[0m in \u001b[0;36m_get_next_minibatch\u001b[0;34m(self)\u001b[0m\n\u001b[1;32m     68\u001b[0m         \u001b[0mdb_inds\u001b[0m \u001b[0;34m=\u001b[0m \u001b[0mself\u001b[0m\u001b[0;34m.\u001b[0m\u001b[0m_get_next_minibatch_inds\u001b[0m\u001b[0;34m(\u001b[0m\u001b[0;34m)\u001b[0m\u001b[0;34m\u001b[0m\u001b[0m\n\u001b[1;32m     69\u001b[0m         \u001b[0mminibatch_db\u001b[0m \u001b[0;34m=\u001b[0m \u001b[0;34m[\u001b[0m\u001b[0mself\u001b[0m\u001b[0;34m.\u001b[0m\u001b[0m_roidb\u001b[0m\u001b[0;34m[\u001b[0m\u001b[0mi\u001b[0m\u001b[0;34m]\u001b[0m \u001b[0;32mfor\u001b[0m \u001b[0mi\u001b[0m \u001b[0;32min\u001b[0m \u001b[0mdb_inds\u001b[0m\u001b[0;34m]\u001b[0m\u001b[0;34m\u001b[0m\u001b[0m\n\u001b[0;32m---> 70\u001b[0;31m         \u001b[0;32mreturn\u001b[0m \u001b[0mget_minibatch\u001b[0m\u001b[0;34m(\u001b[0m\u001b[0mminibatch_db\u001b[0m\u001b[0;34m,\u001b[0m \u001b[0mself\u001b[0m\u001b[0;34m.\u001b[0m\u001b[0m_num_classes\u001b[0m\u001b[0;34m)\u001b[0m\u001b[0;34m\u001b[0m\u001b[0m\n\u001b[0m\u001b[1;32m     71\u001b[0m \u001b[0;34m\u001b[0m\u001b[0m\n\u001b[1;32m     72\u001b[0m     \u001b[0;32mdef\u001b[0m \u001b[0mforward\u001b[0m\u001b[0;34m(\u001b[0m\u001b[0mself\u001b[0m\u001b[0;34m)\u001b[0m\u001b[0;34m:\u001b[0m\u001b[0;34m\u001b[0m\u001b[0m\n",
      "\u001b[0;32m/home/zjwang/git/faster_rcnn_pytorch/faster_rcnn/roi_data_layer/minibatch.pyc\u001b[0m in \u001b[0;36mget_minibatch\u001b[0;34m(roidb, num_classes)\u001b[0m\n\u001b[1;32m     33\u001b[0m     \u001b[0;31m# Get the input image blob, formatted for caffe\u001b[0m\u001b[0;34m\u001b[0m\u001b[0;34m\u001b[0m\u001b[0m\n\u001b[1;32m     34\u001b[0m     \u001b[0;31m# im_blob, im_scales = _get_image_blob(roidb, random_scale_inds)\u001b[0m\u001b[0;34m\u001b[0m\u001b[0;34m\u001b[0m\u001b[0m\n\u001b[0;32m---> 35\u001b[0;31m     \u001b[0mim_blob\u001b[0m\u001b[0;34m,\u001b[0m \u001b[0mim_scales\u001b[0m\u001b[0;34m,\u001b[0m \u001b[0mdisp_blob\u001b[0m \u001b[0;34m=\u001b[0m \u001b[0m_get_image_disparity_blob\u001b[0m\u001b[0;34m(\u001b[0m\u001b[0mroidb\u001b[0m\u001b[0;34m,\u001b[0m \u001b[0mrandom_scale_inds\u001b[0m\u001b[0;34m)\u001b[0m\u001b[0;34m\u001b[0m\u001b[0m\n\u001b[0m\u001b[1;32m     36\u001b[0m \u001b[0;34m\u001b[0m\u001b[0m\n\u001b[1;32m     37\u001b[0m     \u001b[0mblobs\u001b[0m \u001b[0;34m=\u001b[0m \u001b[0;34m{\u001b[0m\u001b[0;34m'data'\u001b[0m\u001b[0;34m:\u001b[0m \u001b[0mim_blob\u001b[0m\u001b[0;34m}\u001b[0m\u001b[0;34m\u001b[0m\u001b[0m\n",
      "\u001b[0;32m/home/zjwang/git/faster_rcnn_pytorch/faster_rcnn/roi_data_layer/minibatch.pyc\u001b[0m in \u001b[0;36m_get_image_disparity_blob\u001b[0;34m(roidb, scale_inds)\u001b[0m\n\u001b[1;32m    195\u001b[0m             \u001b[0;31m#   -- disparity\u001b[0m\u001b[0;34m\u001b[0m\u001b[0;34m\u001b[0m\u001b[0m\n\u001b[1;32m    196\u001b[0m             \u001b[0;31m#      -- 000000.jpg   <-- this is the disparity map\u001b[0m\u001b[0;34m\u001b[0m\u001b[0;34m\u001b[0m\u001b[0m\n\u001b[0;32m--> 197\u001b[0;31m         \u001b[0mdisp\u001b[0m \u001b[0;34m=\u001b[0m \u001b[0mcv2\u001b[0m\u001b[0;34m.\u001b[0m\u001b[0mimread\u001b[0m\u001b[0;34m(\u001b[0m\u001b[0mdisp_name\u001b[0m\u001b[0;34m)\u001b[0m \u001b[0;31m# this is a 3-channel, all channels are identical\u001b[0m\u001b[0;34m\u001b[0m\u001b[0m\n\u001b[0m\u001b[1;32m    198\u001b[0m         disp = cv2.resize(disp, None, None, fx=im_scale, fy=im_scale,\n\u001b[1;32m    199\u001b[0m                     interpolation=cv2.INTER_LINEAR) # perform same resize as rgb\n",
      "\u001b[0;31mKeyboardInterrupt\u001b[0m: "
     ]
    }
   ],
   "source": [
    "file_loss_pose = open(output_dir+'/loss_pose.txt', 'w')\n",
    "\n",
    "train_loss = 0.\n",
    "tp, tf, fg, bg = 0., 0., 0., 0.\n",
    "step_cnt = 0.\n",
    "re_cnt = False\n",
    "t = Timer()\n",
    "t.tic()\n",
    "for step in range(start_step, end_step+1):\n",
    "#for step in range(20):\n",
    "\n",
    "    # get one batch\n",
    "    blobs = data_layer.forward()\n",
    "    im_data = blobs['data'] # one image, shape = (1, H, W, 3)\n",
    "    im_info = blobs['im_info'] # stores H, W, scale\n",
    "    gt_boxes = blobs['gt_boxes'] # groundtruth boxes\n",
    "    gt_poses = blobs['gt_poses']\n",
    "    gt_ishard = blobs['gt_ishard']\n",
    "    dontcare_areas = blobs['dontcare_areas']\n",
    "    dontcare_poses = blobs['dontcare_poses']\n",
    "    disp_data = blobs['data_disp'] # disparity map\n",
    "\n",
    "    # forward\n",
    "    net(im_data, im_info, disp_data, gt_boxes, gt_poses, gt_ishard, dontcare_areas, dontcare_poses)\n",
    "    loss = net.loss\n",
    "\n",
    "    \n",
    "    if _DEBUG:\n",
    "        tp += float(net.tp)\n",
    "        tf += float(net.tf)\n",
    "        fg += net.fg_cnt\n",
    "        bg += net.bg_cnt\n",
    "\n",
    "    train_loss += loss.data[0]\n",
    "    step_cnt += 1\n",
    "\n",
    "    # backward\n",
    "    optimizer.zero_grad()\n",
    "    loss.backward()\n",
    "    network.clip_gradient(net, 10.)\n",
    "    optimizer.step()\n",
    "    \n",
    "    \n",
    "    # log losses to file\n",
    "    file_loss_pose.write(str(net.loss.data.cpu().numpy()))\n",
    "    file_loss_pose.write('\\n')\n",
    "    \n",
    "\n",
    "    #if step % disp_interval == 0:\n",
    "    if step % 100 == 0:\n",
    "        duration = t.toc(average=False)\n",
    "        fps = step_cnt / duration\n",
    "\n",
    "        log_text = 'step %d, image: %s, loss: %.4f, fps: %.2f (%.2fs per batch)' % (\n",
    "            step, blobs['im_name'], train_loss / step_cnt, fps, 1./fps)\n",
    "        log_print(log_text, color='green', attrs=['bold'])\n",
    "\n",
    "        if _DEBUG:\n",
    "            log_print('\\tTP: %.2f%%, TF: %.2f%%, fg/bg=(%d/%d)' % (tp/float(fg*100.), tf/float(bg*100.), fg/float(step_cnt), bg/float(step_cnt)))\n",
    "            log_print('\\tpose_loss: %.4f' % (\n",
    "                net.loss.data.cpu().numpy())\n",
    "            )\n",
    "        re_cnt = True\n",
    "\n",
    "    if use_tensorboard and step % log_interval == 0:\n",
    "        exp.add_scalar_value('train_loss', train_loss / step_cnt, step=step)\n",
    "        exp.add_scalar_value('learning_rate', lr, step=step)\n",
    "        if _DEBUG:\n",
    "            exp.add_scalar_value('true_positive', tp/float(fg*100.), step=step)\n",
    "            exp.add_scalar_value('true_negative', tf/float(bg*100.), step=step)\n",
    "            losses = {'rpn_cls': float(net.rpn.cross_entropy.data.cpu().numpy()),\n",
    "                      'rpn_box': float(net.rpn.loss_box.data.cpu().numpy()),\n",
    "                      'rcnn_cls': float(net.cross_entropy.data.cpu().numpy()),\n",
    "                      'rcnn_box': float(net.loss_box.data.cpu().numpy()),\n",
    "                      'rcnn_pose': float(net.loss_pose.data.cpu().numpy())}\n",
    "            exp.add_scalar_dict(losses, step=step)\n",
    "\n",
    "    if (step % 5000 == 0) and step > 0:\n",
    "        save_name = os.path.join(output_dir, 'faster_rcnn_{}.h5'.format(step))\n",
    "        network.save_net(save_name, net)\n",
    "        print('save model: {}'.format(save_name))\n",
    "    if step in lr_decay_steps:\n",
    "        lr *= lr_decay\n",
    "        optimizer = torch.optim.SGD(filter(lambda p: p.requires_grad, net.parameters()), \n",
    "                                    lr=lr, momentum=momentum, weight_decay=weight_decay)\n",
    "\n",
    "    if re_cnt:\n",
    "        tp, tf, fg, bg = 0., 0., 0, 0\n",
    "        train_loss = 0\n",
    "        step_cnt = 0\n",
    "        t.tic()\n",
    "        re_cnt = False\n",
    "        \n",
    "file_loss_pose.close()"
   ]
  },
  {
   "cell_type": "code",
   "execution_count": null,
   "metadata": {
    "collapsed": false
   },
   "outputs": [],
   "source": [
    "import numpy as np\n",
    "import matplotlib.pyplot as plt\n",
    "%matplotlib inline\n",
    "\n",
    "\n",
    "log_dir = \"trained_models/saved_pose_model2\"\n",
    "file_pose_loss = np.loadtxt(log_dir+\"/loss_pose.txt\")\n",
    "plt.plot(file_pose_loss)"
   ]
  },
  {
   "cell_type": "code",
   "execution_count": null,
   "metadata": {
    "collapsed": true
   },
   "outputs": [],
   "source": []
  }
 ],
 "metadata": {
  "kernelspec": {
   "display_name": "cs231n",
   "language": "python",
   "name": "cs231n"
  },
  "language_info": {
   "codemirror_mode": {
    "name": "ipython",
    "version": 2
   },
   "file_extension": ".py",
   "mimetype": "text/x-python",
   "name": "python",
   "nbconvert_exporter": "python",
   "pygments_lexer": "ipython2",
   "version": "2.7.12"
  }
 },
 "nbformat": 4,
 "nbformat_minor": 1
}
