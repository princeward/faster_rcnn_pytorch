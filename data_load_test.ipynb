{
 "cells": [
  {
   "cell_type": "code",
   "execution_count": 1,
   "metadata": {
    "collapsed": true
   },
   "outputs": [],
   "source": [
    "from faster_rcnn.datasets.factory import get_imdb\n",
    "import faster_rcnn.roi_data_layer.roidb as rdl_roidb\n",
    "from faster_rcnn.roi_data_layer.layer import RoIDataLayer\n",
    "from faster_rcnn.fast_rcnn.config import cfg, cfg_from_file\n",
    "\n",
    "import cv2\n",
    "import numpy as np\n",
    "\n",
    "from matplotlib import pyplot as plt\n",
    "%matplotlib inline\n",
    "import matplotlib as mpl\n",
    "mpl.rcParams['figure.dpi']= 300"
   ]
  },
  {
   "cell_type": "code",
   "execution_count": 2,
   "metadata": {
    "collapsed": true
   },
   "outputs": [],
   "source": [
    "# load config\n",
    "cfg_file = 'experiments/cfgs/faster_rcnn_end2end.yml'\n",
    "cfg_from_file(cfg_file)"
   ]
  },
  {
   "cell_type": "code",
   "execution_count": 3,
   "metadata": {},
   "outputs": [
    {
     "name": "stdout",
     "output_type": "stream",
     "text": [
      "<bound method kittipose.default_roidb of <faster_rcnn.datasets.kittipose.kittipose object at 0x7f01ea992510>>\n",
      "Remove empty annotations:  005066 004339 004040 003383 001752 001091 000547 Done. \n",
      "kittipose_train gt roidb loaded from /home/pculbert/Documents/faster_rcnn_pytorch/data/cache/kittipose_train_gt_roidb.pkl\n"
     ]
    }
   ],
   "source": [
    "# imdb_name = 'kittivoc_train'\n",
    "imdb_name = 'kittipose_train'\n",
    "\n",
    "# load data\n",
    "imdb = get_imdb(imdb_name)\n",
    "rdl_roidb.prepare_roidb(imdb)\n",
    "roidb = imdb.roidb\n",
    "# roidb is a database, containing bounding box info for all training images"
   ]
  },
  {
   "cell_type": "code",
   "execution_count": null,
   "metadata": {},
   "outputs": [],
   "source": [
    "print len(roidb)# roidb is a list of dictionaries. Length is the entire number of images"
   ]
  },
  {
   "cell_type": "code",
   "execution_count": null,
   "metadata": {},
   "outputs": [],
   "source": [
    "poses = np.concatenate([roidb[i]['poses'] for i in range(0,len(roidb))],axis=0)"
   ]
  },
  {
   "cell_type": "code",
   "execution_count": null,
   "metadata": {},
   "outputs": [],
   "source": [
    "sig2 = np.var(poses,axis=0)\n",
    "mean = np.mean(poses,axis=0)\n",
    "np.var((poses-mean)/np.sqrt(sig2))"
   ]
  },
  {
   "cell_type": "code",
   "execution_count": null,
   "metadata": {},
   "outputs": [],
   "source": [
    "print roidb[0]\n",
    "\n",
    "img_name = roidb[0]['image'][0:-10]\n",
    "print img_name\n",
    "\n",
    "idx = roidb[0]['image'][-10:-3]\n",
    "print idx\n",
    "\n",
    "idx += \"png\"\n",
    "print idx\n",
    "\n",
    "disp_name = img_name + 'disparity/' + idx\n",
    "print disp_name"
   ]
  },
  {
   "cell_type": "code",
   "execution_count": 4,
   "metadata": {
    "collapsed": true
   },
   "outputs": [],
   "source": [
    "data_layer = RoIDataLayer(roidb, imdb.num_classes)"
   ]
  },
  {
   "cell_type": "code",
   "execution_count": 19,
   "metadata": {
    "collapsed": true
   },
   "outputs": [],
   "source": [
    "blobs = data_layer.forward()\n",
    "im_data = blobs['data'] # one image, shape = (1, 302, 1000, 3)\n",
    "im_info = blobs['im_info'] # stores H, W, scale\n",
    "gt_boxes = blobs['gt_boxes']\n",
    "gt_ishard = blobs['gt_ishard']\n",
    "dontcare_areas = blobs['dontcare_areas']\n",
    "poses = blobs['gt_poses']"
   ]
  },
  {
   "cell_type": "code",
   "execution_count": 22,
   "metadata": {},
   "outputs": [
    {
     "name": "stdout",
     "output_type": "stream",
     "text": [
      "[ 0.13597917  0.25474813  0.3060907  -0.08941058  0.23827715 -0.26190137\n",
      "  0.10365027]\n"
     ]
    }
   ],
   "source": []
  },
  {
   "cell_type": "code",
   "execution_count": null,
   "metadata": {},
   "outputs": [],
   "source": [
    "#print blobs['gt_poses']\n",
    "#print blobs['gt_boxes']\n",
    "#print blobs['im_name']"
   ]
  },
  {
   "cell_type": "code",
   "execution_count": null,
   "metadata": {},
   "outputs": [],
   "source": [
    "plt.imshow(im_data[0,:,:,:])"
   ]
  },
  {
   "cell_type": "code",
   "execution_count": null,
   "metadata": {
    "collapsed": true
   },
   "outputs": [],
   "source": [
    "disp_data = blobs['data_disp']\n",
    "print disp_data.shape # note: original disparity file has 3 identical channels\n",
    "                      # we only take one channel\n",
    "print disp_data.dtype\n",
    "plt.imshow(np.uint8(disp_data[0,:,:,0])) # must convert to uint8 in order to plot"
   ]
  },
  {
   "cell_type": "code",
   "execution_count": null,
   "metadata": {},
   "outputs": [],
   "source": [
    "# read a sample rgb image\n",
    "fn = \"/home/pculbert/Documents/faster_rcnn_pytorch/data/KITTIVOC/JPEGImages/000558.jpg\"\n",
    "im = cv2.imread(fn)\n",
    "print im.shape\n",
    "plt.imshow(im)"
   ]
  },
  {
   "cell_type": "code",
   "execution_count": null,
   "metadata": {},
   "outputs": [],
   "source": [
    "# read a sample disparity image\n",
    "# note that the disparity map is a 3 IDENTICAL channel rgb!\n",
    "# we only need to use one channel\n",
    "fn = \"/home/pculbert/Documents/faster_rcnn_pytorch/data/KITTIVOC/JPEGImages/disparity/000558.png\"\n",
    "im = cv2.imread(fn)\n",
    "print im.shape\n",
    "print im.dtype\n",
    "#plt.imshow(im)\n",
    "\n",
    "im0 = im[:,:,0]\n",
    "im1 = im[:,:,1]\n",
    "im2 = im[:,:,2]\n",
    "\n",
    "print np.sum(im0-im1)\n",
    "print np.sum(im0-im2)\n",
    "\n",
    "plt.imshow(im0) # only plot one channel"
   ]
  },
  {
   "cell_type": "code",
   "execution_count": null,
   "metadata": {
    "collapsed": true
   },
   "outputs": [],
   "source": []
  }
 ],
 "metadata": {
  "kernelspec": {
   "display_name": "temp",
   "language": "python",
   "name": "temp"
  },
  "language_info": {
   "codemirror_mode": {
    "name": "ipython",
    "version": 2
   },
   "file_extension": ".py",
   "mimetype": "text/x-python",
   "name": "python",
   "nbconvert_exporter": "python",
   "pygments_lexer": "ipython2",
   "version": "2.7.12"
  }
 },
 "nbformat": 4,
 "nbformat_minor": 1
}
